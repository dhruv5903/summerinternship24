{
  "nbformat": 4,
  "nbformat_minor": 0,
  "metadata": {
    "colab": {
      "provenance": [],
      "mount_file_id": "13IRDMtEluBfTb67z5FtrMsRtKm5DEMRY",
      "authorship_tag": "ABX9TyPd1J9DhtsG8aMzaFFVes4E",
      "include_colab_link": true
    },
    "kernelspec": {
      "name": "python3",
      "display_name": "Python 3"
    },
    "language_info": {
      "name": "python"
    }
  },
  "cells": [
    {
      "cell_type": "markdown",
      "metadata": {
        "id": "view-in-github",
        "colab_type": "text"
      },
      "source": [
        "<a href=\"https://colab.research.google.com/github/dhruv5903/summerinternship24/blob/main/Chunking(Draft).ipynb\" target=\"_parent\"><img src=\"https://colab.research.google.com/assets/colab-badge.svg\" alt=\"Open In Colab\"/></a>"
      ]
    },
    {
      "cell_type": "code",
      "source": [
        "pip install langchain"
      ],
      "metadata": {
        "colab": {
          "base_uri": "https://localhost:8080/"
        },
        "id": "ejXiIQZcZnZ0",
        "outputId": "9899ca0d-001c-4eea-92e5-94fbcc1665a3"
      },
      "execution_count": null,
      "outputs": [
        {
          "output_type": "stream",
          "name": "stdout",
          "text": [
            "Requirement already satisfied: langchain in /usr/local/lib/python3.10/dist-packages (0.2.6)\n",
            "Requirement already satisfied: PyYAML>=5.3 in /usr/local/lib/python3.10/dist-packages (from langchain) (6.0.1)\n",
            "Requirement already satisfied: SQLAlchemy<3,>=1.4 in /usr/local/lib/python3.10/dist-packages (from langchain) (2.0.31)\n",
            "Requirement already satisfied: aiohttp<4.0.0,>=3.8.3 in /usr/local/lib/python3.10/dist-packages (from langchain) (3.9.5)\n",
            "Requirement already satisfied: async-timeout<5.0.0,>=4.0.0 in /usr/local/lib/python3.10/dist-packages (from langchain) (4.0.3)\n",
            "Requirement already satisfied: langchain-core<0.3.0,>=0.2.10 in /usr/local/lib/python3.10/dist-packages (from langchain) (0.2.10)\n",
            "Requirement already satisfied: langchain-text-splitters<0.3.0,>=0.2.0 in /usr/local/lib/python3.10/dist-packages (from langchain) (0.2.2)\n",
            "Requirement already satisfied: langsmith<0.2.0,>=0.1.17 in /usr/local/lib/python3.10/dist-packages (from langchain) (0.1.82)\n",
            "Requirement already satisfied: numpy<2,>=1 in /usr/local/lib/python3.10/dist-packages (from langchain) (1.25.2)\n",
            "Requirement already satisfied: pydantic<3,>=1 in /usr/local/lib/python3.10/dist-packages (from langchain) (2.7.4)\n",
            "Requirement already satisfied: requests<3,>=2 in /usr/local/lib/python3.10/dist-packages (from langchain) (2.31.0)\n",
            "Requirement already satisfied: tenacity!=8.4.0,<9.0.0,>=8.1.0 in /usr/local/lib/python3.10/dist-packages (from langchain) (8.4.1)\n",
            "Requirement already satisfied: aiosignal>=1.1.2 in /usr/local/lib/python3.10/dist-packages (from aiohttp<4.0.0,>=3.8.3->langchain) (1.3.1)\n",
            "Requirement already satisfied: attrs>=17.3.0 in /usr/local/lib/python3.10/dist-packages (from aiohttp<4.0.0,>=3.8.3->langchain) (23.2.0)\n",
            "Requirement already satisfied: frozenlist>=1.1.1 in /usr/local/lib/python3.10/dist-packages (from aiohttp<4.0.0,>=3.8.3->langchain) (1.4.1)\n",
            "Requirement already satisfied: multidict<7.0,>=4.5 in /usr/local/lib/python3.10/dist-packages (from aiohttp<4.0.0,>=3.8.3->langchain) (6.0.5)\n",
            "Requirement already satisfied: yarl<2.0,>=1.0 in /usr/local/lib/python3.10/dist-packages (from aiohttp<4.0.0,>=3.8.3->langchain) (1.9.4)\n",
            "Requirement already satisfied: jsonpatch<2.0,>=1.33 in /usr/local/lib/python3.10/dist-packages (from langchain-core<0.3.0,>=0.2.10->langchain) (1.33)\n",
            "Requirement already satisfied: packaging<25,>=23.2 in /usr/local/lib/python3.10/dist-packages (from langchain-core<0.3.0,>=0.2.10->langchain) (24.1)\n",
            "Requirement already satisfied: orjson<4.0.0,>=3.9.14 in /usr/local/lib/python3.10/dist-packages (from langsmith<0.2.0,>=0.1.17->langchain) (3.10.5)\n",
            "Requirement already satisfied: annotated-types>=0.4.0 in /usr/local/lib/python3.10/dist-packages (from pydantic<3,>=1->langchain) (0.7.0)\n",
            "Requirement already satisfied: pydantic-core==2.18.4 in /usr/local/lib/python3.10/dist-packages (from pydantic<3,>=1->langchain) (2.18.4)\n",
            "Requirement already satisfied: typing-extensions>=4.6.1 in /usr/local/lib/python3.10/dist-packages (from pydantic<3,>=1->langchain) (4.12.2)\n",
            "Requirement already satisfied: charset-normalizer<4,>=2 in /usr/local/lib/python3.10/dist-packages (from requests<3,>=2->langchain) (3.3.2)\n",
            "Requirement already satisfied: idna<4,>=2.5 in /usr/local/lib/python3.10/dist-packages (from requests<3,>=2->langchain) (3.7)\n",
            "Requirement already satisfied: urllib3<3,>=1.21.1 in /usr/local/lib/python3.10/dist-packages (from requests<3,>=2->langchain) (2.0.7)\n",
            "Requirement already satisfied: certifi>=2017.4.17 in /usr/local/lib/python3.10/dist-packages (from requests<3,>=2->langchain) (2024.6.2)\n",
            "Requirement already satisfied: greenlet!=0.4.17 in /usr/local/lib/python3.10/dist-packages (from SQLAlchemy<3,>=1.4->langchain) (3.0.3)\n",
            "Requirement already satisfied: jsonpointer>=1.9 in /usr/local/lib/python3.10/dist-packages (from jsonpatch<2.0,>=1.33->langchain-core<0.3.0,>=0.2.10->langchain) (3.0.0)\n"
          ]
        }
      ]
    },
    {
      "cell_type": "code",
      "source": [
        "text=\"The room in which the boys were fed, was a large stone hall, with a copper [a large, heated copper pot] at one end: out of which the master, dressed in an apron for the purpose, and assisted by one or two women, ladled the gruel [a watery cereal like very thin oatmeal] at mealtimes. Of this festive composition each boy had one porringer [small bowl], and no more—except on occasions of great public rejoicing, when he had two ounces and a quarter of bread besides. The bowls never wanted washing. The boys polished them with their spoons till they shone again; and when they had performed this operation (which never took very long, the spoons being nearly as large as the bowls), they would sit staring at the copper, with such eager eyes, as if they could have devoured the very bricks of which it was composed; employing themselves, meanwhile, in sucking their fingers most assiduously [diligently], with the view of catching up any stray splashes of gruel that  ight have been cast thereon. Boys have generally excellent appetites. Oliver Twist and his companions suffered the  ortures of slow starvation for three months: at last they got so voracious and wild with hunger, that one boy, who was tall for his age, and hadn’t been used to that sort of thing (for his father had kept a small cook-shop), hinted darkly to his companions, that unless he had another basin of gruel per diem [each day], he was afraid he might some night happen to eat the boy who slept next him, who happened to be a weakly youth of tender age. He had a wild, hungry eye; and they implicitly believed him. A council was held; lots [objects, such as straws, that would be taken out of a container to make a decision or choice] were cast who should walk up to the master after supper that evening, and ask for more; and it fell to Oliver Twist.\"\n",
        "from langchain.text_splitter import CharacterTextSplitter\n",
        "text_splitter = CharacterTextSplitter(separator = \"\\n\\n\",chunk_size = 256,chunk_overlap  = 20)\n",
        "docs = text_splitter.create_documents([text])"
      ],
      "metadata": {
        "id": "u2lQ1DRPY0G1"
      },
      "execution_count": null,
      "outputs": []
    },
    {
      "cell_type": "code",
      "source": [
        "print(docs)"
      ],
      "metadata": {
        "colab": {
          "base_uri": "https://localhost:8080/"
        },
        "id": "bOiWkPWvZSM7",
        "outputId": "49897117-de1f-406c-fa74-de594cd9663c"
      },
      "execution_count": null,
      "outputs": [
        {
          "output_type": "stream",
          "name": "stdout",
          "text": [
            "[Document(page_content='The room in which the boys were fed, was a large stone hall, with a copper [a large, heated copper pot] at one end: out of which the master, dressed in an apron for the purpose, and assisted by one or two women, ladled the gruel [a watery cereal like very thin oatmeal] at mealtimes. Of this festive composition each boy had one porringer [small bowl], and no more—except on occasions of great public rejoicing, when he had two ounces and a quarter of bread besides. The bowls never wanted washing. The boys polished them with their spoons till they shone again; and when they had performed this operation (which never took very long, the spoons being nearly as large as the bowls), they would sit staring at the copper, with such eager eyes, as if they could have devoured the very bricks of which it was composed; employing themselves, meanwhile, in sucking their fingers most assiduously [diligently], with the view of catching up any stray splashes of gruel that  ight have been cast thereon. Boys have generally excellent appetites. Oliver Twist and his companions suffered the  ortures of slow starvation for three months: at last they got so voracious and wild with hunger, that one boy, who was tall for his age, and hadn’t been used to that sort of thing (for his father had kept a small cook-shop), hinted darkly to his companions, that unless he had another basin of gruel per diem [each day], he was afraid he might some night happen to eat the boy who slept next him, who happened to be a weakly youth of tender age. He had a wild, hungry eye; and they implicitly believed him. A council was held; lots [objects, such as straws, that would be taken out of a container to make a decision or choice] were cast who should walk up to the master after supper that evening, and ask for more; and it fell to Oliver Twist.')]\n"
          ]
        }
      ]
    },
    {
      "cell_type": "code",
      "source": [
        "text = \"The room in which the boys were fed, was a large stone hall, with a copper [a large, heated copper pot] at one end: out of which the master, dressed in an apron for the purpose, and assisted by one or two women, ladled the gruel [a watery cereal like very thin oatmeal] at mealtimes. Of this festive composition each boy had one porringer [small bowl], and no more—except on occasions of great public rejoicing, when he had two ounces and a quarter of bread besides. The bowls never wanted washing. The boys polished them with their spoons till they shone again; and when they had performed this operation (which never took very long, the spoons being nearly as large as the bowls), they would sit staring at the copper, with such eager eyes, as if they could have devoured the very bricks of which it was composed; employing themselves, meanwhile, in sucking their fingers most assiduously [diligently], with the view of catching up any stray splashes of gruel that  ight have been cast thereon. Boys have generally excellent appetites. Oliver Twist and his companions suffered the  ortures of slow starvation for three months: at last they got so voracious and wild with hunger, that one boy, who was tall for his age, and hadn’t been used to that sort of thing (for his father had kept a small cook-shop), hinted darkly to his companions, that unless he had another basin of gruel per diem [each day], he was afraid he might some night happen to eat the boy who slept next him, who happened to be a weakly youth of tender age. He had a wild, hungry eye; and they implicitly believed him. A council was held; lots [objects, such as straws, that would be taken out of a container to make a decision or choice] were cast who should walk up to the master after supper that evening, and ask for more; and it fell to Oliver Twist.\"\n",
        "docs = text.split(\".\")"
      ],
      "metadata": {
        "id": "ch_k8rCzZ0Q8"
      },
      "execution_count": null,
      "outputs": []
    },
    {
      "cell_type": "code",
      "source": [
        "print(docs)"
      ],
      "metadata": {
        "colab": {
          "base_uri": "https://localhost:8080/"
        },
        "id": "S2gKP8J38tka",
        "outputId": "cbc350db-4305-42f8-ccce-64ca4b6e1c5b"
      },
      "execution_count": null,
      "outputs": [
        {
          "output_type": "stream",
          "name": "stdout",
          "text": [
            "['The room in which the boys were fed, was a large stone hall, with a copper [a large, heated copper pot] at one end: out of which the master, dressed in an apron for the purpose, and assisted by one or two women, ladled the gruel [a watery cereal like very thin oatmeal] at mealtimes', ' Of this festive composition each boy had one porringer [small bowl], and no more—except on occasions of great public rejoicing, when he had two ounces and a quarter of bread besides', ' The bowls never wanted washing', ' The boys polished them with their spoons till they shone again; and when they had performed this operation (which never took very long, the spoons being nearly as large as the bowls), they would sit staring at the copper, with such eager eyes, as if they could have devoured the very bricks of which it was composed; employing themselves, meanwhile, in sucking their fingers most assiduously [diligently], with the view of catching up any stray splashes of gruel that  ight have been cast thereon', ' Boys have generally excellent appetites', ' Oliver Twist and his companions suffered the  ortures of slow starvation for three months: at last they got so voracious and wild with hunger, that one boy, who was tall for his age, and hadn’t been used to that sort of thing (for his father had kept a small cook-shop), hinted darkly to his companions, that unless he had another basin of gruel per diem [each day], he was afraid he might some night happen to eat the boy who slept next him, who happened to be a weakly youth of tender age', ' He had a wild, hungry eye; and they implicitly believed him', ' A council was held; lots [objects, such as straws, that would be taken out of a container to make a decision or choice] were cast who should walk up to the master after supper that evening, and ask for more; and it fell to Oliver Twist', '']\n"
          ]
        }
      ]
    },
    {
      "cell_type": "code",
      "source": [
        "from langchain.text_splitter import NLTKTextSplitter\n",
        "text_splitter = NLTKTextSplitter()\n",
        "docs = text_splitter.split_text(text)"
      ],
      "metadata": {
        "id": "aPcnMXoo8yBm"
      },
      "execution_count": null,
      "outputs": []
    },
    {
      "cell_type": "code",
      "source": [
        "print(docs)"
      ],
      "metadata": {
        "colab": {
          "base_uri": "https://localhost:8080/"
        },
        "id": "wWeN_GMo9tTe",
        "outputId": "8ff90a78-be74-4eb6-ff8a-08f19b309fed"
      },
      "execution_count": null,
      "outputs": [
        {
          "output_type": "stream",
          "name": "stdout",
          "text": [
            "['The room in which the boys were fed, was a large stone hall, with a copper [a large, heated copper pot] at one end: out of which the master, dressed in an apron for the purpose, and assisted by one or two women, ladled the gruel [a watery cereal like very thin oatmeal] at mealtimes.\\n\\nOf this festive composition each boy had one porringer [small bowl], and no more—except on occasions of great public rejoicing, when he had two ounces and a quarter of bread besides.\\n\\nThe bowls never wanted washing.\\n\\nThe boys polished them with their spoons till they shone again; and when they had performed this operation (which never took very long, the spoons being nearly as large as the bowls), they would sit staring at the copper, with such eager eyes, as if they could have devoured the very bricks of which it was composed; employing themselves, meanwhile, in sucking their fingers most assiduously [diligently], with the view of catching up any stray splashes of gruel that  ight have been cast thereon.\\n\\nBoys have generally excellent appetites.\\n\\nOliver Twist and his companions suffered the  ortures of slow starvation for three months: at last they got so voracious and wild with hunger, that one boy, who was tall for his age, and hadn’t been used to that sort of thing (for his father had kept a small cook-shop), hinted darkly to his companions, that unless he had another basin of gruel per diem [each day], he was afraid he might some night happen to eat the boy who slept next him, who happened to be a weakly youth of tender age.\\n\\nHe had a wild, hungry eye; and they implicitly believed him.\\n\\nA council was held; lots [objects, such as straws, that would be taken out of a container to make a decision or choice] were cast who should walk up to the master after supper that evening, and ask for more; and it fell to Oliver Twist.']\n"
          ]
        }
      ]
    },
    {
      "cell_type": "code",
      "source": [
        "from langchain.text_splitter import SpacyTextSplitter\n",
        "text_splitter = SpacyTextSplitter()\n",
        "docs = text_splitter.split_text(text)"
      ],
      "metadata": {
        "colab": {
          "base_uri": "https://localhost:8080/"
        },
        "id": "GvLLDNef-huK",
        "outputId": "10f4b2e8-e4af-442c-9526-2a2d9952e055"
      },
      "execution_count": null,
      "outputs": [
        {
          "output_type": "stream",
          "name": "stderr",
          "text": [
            "/usr/local/lib/python3.10/dist-packages/spacy/pipeline/lemmatizer.py:211: UserWarning: [W108] The rule-based lemmatizer did not find POS annotation for one or more tokens. Check that your pipeline includes components that assign token.pos, typically 'tagger'+'attribute_ruler' or 'morphologizer'.\n",
            "  warnings.warn(Warnings.W108)\n"
          ]
        }
      ]
    },
    {
      "cell_type": "code",
      "source": [
        "print(docs)"
      ],
      "metadata": {
        "colab": {
          "base_uri": "https://localhost:8080/"
        },
        "id": "adPcdcjY_F7F",
        "outputId": "caac6c69-034e-45e6-ff86-ef090d0bc498"
      },
      "execution_count": null,
      "outputs": [
        {
          "output_type": "stream",
          "name": "stdout",
          "text": [
            "['The room in which the boys were fed, was a large stone hall, with a copper [a large, heated copper pot] at one end: out of which the master, dressed in an apron for the purpose, and assisted by one or two women, ladled the gruel\\n\\n[a watery cereal like very thin oatmeal] at mealtimes.\\n\\nOf this festive composition each boy had one porringer [small bowl], and no more—except on occasions of great public rejoicing, when he had two ounces and a quarter of bread besides.\\n\\nThe bowls never wanted washing.\\n\\nThe boys polished them with their spoons till they shone again; and when they had performed this operation (which never took very long, the spoons being nearly as large as the bowls), they would sit staring at the copper, with such eager eyes, as if they could have devoured the very bricks of which it was composed; employing themselves, meanwhile, in sucking their fingers most assiduously\\n\\n[diligently], with the view of catching up any stray splashes of gruel that  ight have been cast thereon.\\n\\nBoys have generally excellent appetites.\\n\\nOliver Twist and his companions suffered the  ortures of slow starvation for three months: at last they got so voracious and wild with hunger, that one boy, who was tall for his age, and hadn’t been used to that sort of thing (for his father had kept a small cook-shop), hinted darkly to his companions, that unless he had another basin of gruel per diem [each day], he was afraid he might some night happen to eat the boy who slept next him, who happened to be a weakly youth of tender age.\\n\\nHe had a wild, hungry eye; and they implicitly believed him.\\n\\nA council was held;\\n\\nlots [objects, such as straws, that would be taken out of a container to make a decision or choice] were cast who should walk up to the master after supper that evening, and ask for more; and it fell to Oliver Twist.']\n"
          ]
        }
      ]
    },
    {
      "cell_type": "code",
      "source": [
        "from langchain.text_splitter import RecursiveCharacterTextSplitter\n",
        "text_splitter = RecursiveCharacterTextSplitter(chunk_size = 256,chunk_overlap = 20)\n",
        "docs = text_splitter.create_documents([text])"
      ],
      "metadata": {
        "id": "9fehAs23_Sxe"
      },
      "execution_count": null,
      "outputs": []
    },
    {
      "cell_type": "code",
      "source": [
        "docs"
      ],
      "metadata": {
        "colab": {
          "base_uri": "https://localhost:8080/"
        },
        "id": "GQOsgBaDY767",
        "outputId": "5b42eafa-7a80-4fc3-edf9-b4418e8b8daa"
      },
      "execution_count": null,
      "outputs": [
        {
          "output_type": "execute_result",
          "data": {
            "text/plain": [
              "[Document(page_content='The room in which the boys were fed, was a large stone hall, with a copper [a large, heated copper pot] at one end: out of which the master, dressed in an apron for the purpose, and assisted by one or two women, ladled the gruel [a watery cereal like very'),\n",
              " Document(page_content='cereal like very thin oatmeal] at mealtimes. Of this festive composition each boy had one porringer [small bowl], and no more—except on occasions of great public rejoicing, when he had two ounces and a quarter of bread besides. The bowls never wanted'),\n",
              " Document(page_content='bowls never wanted washing. The boys polished them with their spoons till they shone again; and when they had performed this operation (which never took very long, the spoons being nearly as large as the bowls), they would sit staring at the copper, with'),\n",
              " Document(page_content='at the copper, with such eager eyes, as if they could have devoured the very bricks of which it was composed; employing themselves, meanwhile, in sucking their fingers most assiduously [diligently], with the view of catching up any stray splashes of gruel'),\n",
              " Document(page_content='splashes of gruel that  ight have been cast thereon. Boys have generally excellent appetites. Oliver Twist and his companions suffered the  ortures of slow starvation for three months: at last they got so voracious and wild with hunger, that one boy, who'),\n",
              " Document(page_content='that one boy, who was tall for his age, and hadn’t been used to that sort of thing (for his father had kept a small cook-shop), hinted darkly to his companions, that unless he had another basin of gruel per diem [each day], he was afraid he might some'),\n",
              " Document(page_content='he might some night happen to eat the boy who slept next him, who happened to be a weakly youth of tender age. He had a wild, hungry eye; and they implicitly believed him. A council was held; lots [objects, such as straws, that would be taken out of a'),\n",
              " Document(page_content='be taken out of a container to make a decision or choice] were cast who should walk up to the master after supper that evening, and ask for more; and it fell to Oliver Twist.')]"
            ]
          },
          "metadata": {},
          "execution_count": 30
        }
      ]
    },
    {
      "cell_type": "code",
      "source": [],
      "metadata": {
        "id": "w6_qhTfOY9TZ"
      },
      "execution_count": null,
      "outputs": []
    }
  ]
}